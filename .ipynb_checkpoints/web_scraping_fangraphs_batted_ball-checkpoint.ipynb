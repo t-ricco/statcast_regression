{
 "cells": [
  {
   "cell_type": "markdown",
   "metadata": {},
   "source": [
    "## Web Scraping Fangraphs Batted Ball Metrics\n"
   ]
  },
  {
   "cell_type": "code",
   "execution_count": 1,
   "metadata": {
    "collapsed": true
   },
   "outputs": [],
   "source": [
    "from __future__ import print_function, division"
   ]
  },
  {
   "cell_type": "code",
   "execution_count": 2,
   "metadata": {
    "collapsed": true
   },
   "outputs": [],
   "source": [
    "import requests\n",
    "from bs4 import BeautifulSoup\n",
    "import pickle\n",
    "\n"
   ]
  },
  {
   "cell_type": "code",
   "execution_count": 3,
   "metadata": {
    "collapsed": true
   },
   "outputs": [],
   "source": [
    "def get_batted_ball(years,pages):\n",
    "    #f = open('workfile', 'w')\n",
    "    url = \"http://www.fangraphs.com/leaders.aspx?pos=all&stats=bat&lg=all&qual=y&type=2&season={}&month=0&season1={}&ind=0&team=0&rost=0&age=0&filter=&players=0&page={}_30\"\n",
    "    player_data = []\n",
    "    year_data = []\n",
    "    data = {}\n",
    "    \n",
    "    for year in years:\n",
    "        for page in pages:\n",
    "            file_url = url.format(year,year,page)\n",
    "            response = requests.get(file_url)\n",
    "            webpage = response.text\n",
    "            soup = BeautifulSoup(webpage,\"html5lib\")\n",
    "            soup.prettify()\n",
    "            count = 0\n",
    "            for element in soup.find_all(class_=['grid_line_regular' , 'grid_line_break' ]):\n",
    "                player_data.append(element.text)\n",
    "                if (count % 20 == 19):\n",
    "                    year_data.append(player_data)\n",
    "                    player_data = []\n",
    "                count += 1\n",
    "                \n",
    "        data[year] = year_data \n",
    "        year_data = []\n",
    "        \n",
    "    return data\n",
    "\n",
    "years = [str(x) for x in range(2010,2018)]\n",
    "pages = [x for x in range(1,7)]\n",
    "batted_ball = get_batted_ball(years,pages)"
   ]
  },
  {
   "cell_type": "code",
   "execution_count": 4,
   "metadata": {
    "collapsed": true
   },
   "outputs": [],
   "source": [
    "def get_standard(years,pages):\n",
    "    #f = open('workfile', 'w')\n",
    "    url = \"http://www.fangraphs.com/leaders.aspx?pos=all&stats=bat&lg=all&qual=y&type=8&season={}&month=0&season1={}&ind=0&page={}_30\"    \n",
    "    player_data = []\n",
    "    year_data = []\n",
    "    data = {}\n",
    "    \n",
    "    for year in years:\n",
    "        for page in pages:\n",
    "            file_url = url.format(year,year,page)\n",
    "            response = requests.get(file_url)\n",
    "            webpage = response.text\n",
    "            soup = BeautifulSoup(webpage,\"html5lib\")\n",
    "            soup.prettify()\n",
    "            count = 0\n",
    "            for element in soup.find_all(class_=['grid_line_regular' , 'grid_line_break' ]):\n",
    "                player_data.append(element.text)\n",
    "                if (count % 22 == 21):\n",
    "                    year_data.append(player_data)\n",
    "                    player_data = []\n",
    "                count += 1\n",
    "                \n",
    "        data[year] = year_data \n",
    "        year_data = []\n",
    "        \n",
    "    return data\n",
    "\n",
    "years = [str(x) for x in range(2010,2018)]\n",
    "pages = [x for x in range(1,7)]\n",
    "standard = get_standard(years,pages)"
   ]
  },
  {
   "cell_type": "code",
   "execution_count": 5,
   "metadata": {
    "collapsed": true
   },
   "outputs": [],
   "source": [
    "def clean_strings(data_dict):\n",
    "    clean_data = {}\n",
    "    year_stats = []\n",
    "    player_stats = []\n",
    "    \n",
    "    for year in data_dict:\n",
    "        for player in data_dict[year]:\n",
    "            for item in player:\n",
    "                #print(item.encode('ascii'),item)\n",
    "                player_stats.append(item.encode('utf-8').strip('%').strip(' '))\n",
    "                #print(player_stats)\n",
    "            year_stats.append([year] + player_stats[1:])\n",
    "            player_stats = []\n",
    "        clean_data[year] = year_stats\n",
    "        year_stats = []\n",
    "        \n",
    "    return clean_data\n",
    "    \n",
    "clean_batted_data = clean_strings(batted_ball) \n",
    "clean_standard_data = clean_strings(standard) \n"
   ]
  },
  {
   "cell_type": "code",
   "execution_count": 6,
   "metadata": {},
   "outputs": [
    {
     "data": {
      "text/plain": [
       "172"
      ]
     },
     "execution_count": 6,
     "metadata": {},
     "output_type": "execute_result"
    }
   ],
   "source": [
    "len(clean_standard_data['2014'])"
   ]
  },
  {
   "cell_type": "code",
   "execution_count": 10,
   "metadata": {
    "collapsed": true
   },
   "outputs": [],
   "source": [
    "standard_columns = ['Year','Name','Team','G','PA','HR','R','RBI','SB','BB%','K%','ISO','BABIP','AVG','OBP','SLG','wOBA','wRC+','BsR','Off','Def','WAR']\n",
    "batted_columns = ['Year','Name','Team','BABIP','GB/FB','LD%','GB%','FB%','IFFB%','HR/FB','IFH','IFH%','BUH','BUH%','Pull%','Cent%','Oppo%','Soft%','Med%','Hard%']"
   ]
  },
  {
   "cell_type": "code",
   "execution_count": 11,
   "metadata": {
    "scrolled": false
   },
   "outputs": [
    {
     "name": "stdout",
     "output_type": "stream",
     "text": [
      "   Year          Name       Team    G   PA  HR    R RBI  SB   BB% ...  BABIP  \\\n",
      "0  2015  Bryce Harper  Nationals  153  654  42  118  99   6  19.0 ...   .369   \n",
      "1  2015    Mike Trout     Angels  159  682  41  104  90  11  13.5 ...   .344   \n",
      "\n",
      "    AVG   OBP   SLG  wOBA wRC+  BsR   Off   Def  WAR  \n",
      "0  .330  .460  .649  .461  197  3.2  77.6  -8.5  9.5  \n",
      "1  .299  .402  .590  .415  172  3.3  59.9   2.1  9.0  \n",
      "\n",
      "[2 rows x 22 columns]\n",
      "   Year        Name       Team    G   PA  HR    R  RBI  SB   BB% ...  BABIP  \\\n",
      "0  2014  Mike Trout     Angels  157  705  36  115  111  16  11.8 ...   .349   \n",
      "1  2014  Jose Abreu  White Sox  145  622  36   80  107   3   8.2 ...   .356   \n",
      "\n",
      "    AVG   OBP   SLG  wOBA wRC+   BsR   Off   Def  WAR  \n",
      "0  .287  .377  .561  .402  167   6.5  58.1  -8.4  7.9  \n",
      "1  .317  .383  .581  .411  167  -0.3  45.7   0.0  7.2  \n",
      "\n",
      "[2 rows x 22 columns]\n",
      "   Year         Name     Team   G   PA  HR   R RBI  SB   BB% ...  BABIP   AVG  \\\n",
      "0  2017  Aaron Judge  Yankees  84  366  30  75  66   6  16.7 ...   .426  .329   \n",
      "1  2017  Jose Altuve   Astros  86  380  13  62  50  18   9.7 ...   .371  .347   \n",
      "\n",
      "    OBP   SLG  wOBA wRC+   BsR   Off   Def  WAR  \n",
      "0  .448  .691  .466  197  -0.3  43.6  -0.6  5.5  \n",
      "1  .417  .551  .409  161   2.4  31.0  -0.1  4.4  \n",
      "\n",
      "[2 rows x 22 columns]\n",
      "   Year         Name    Team    G   PA  HR    R  RBI  SB   BB% ...  BABIP  \\\n",
      "0  2016   Mike Trout  Angels  159  681  29  123  100  30  17.0 ...   .371   \n",
      "1  2016  Kris Bryant    Cubs  155  699  39  121  102   8  10.7 ...   .332   \n",
      "\n",
      "    AVG   OBP   SLG  wOBA wRC+  BsR   Off   Def  WAR  \n",
      "0  .315  .441  .550  .418  171  9.3  67.7   0.7  9.4  \n",
      "1  .292  .385  .554  .396  149  7.3  49.1  11.0  8.4  \n",
      "\n",
      "[2 rows x 22 columns]\n",
      "   Year             Name     Team    G   PA  HR    R  RBI  SB   BB% ...   \\\n",
      "0  2011  Jacoby Ellsbury  Red Sox  158  732  32  119  105  39   7.1 ...    \n",
      "1  2011        Matt Kemp  Dodgers  161  689  39  115  126  40  10.7 ...    \n",
      "\n",
      "  BABIP   AVG   OBP   SLG  wOBA wRC+  BsR   Off   Def  WAR  \n",
      "0  .336  .321  .376  .552  .400  150  5.1  47.5  18.0  9.4  \n",
      "1  .380  .324  .399  .586  .413  168  5.6  59.9  -2.7  8.3  \n",
      "\n",
      "[2 rows x 22 columns]\n",
      "   Year           Name     Team    G   PA  HR    R  RBI  SB  BB% ...  BABIP  \\\n",
      "0  2010  Josh Hamilton  Rangers  133  571  32   95  100   8  7.5 ...   .390   \n",
      "1  2010  Carl Crawford     Rays  154  663  19  110   90  47  6.9 ...   .342   \n",
      "\n",
      "    AVG   OBP   SLG  wOBA wRC+   BsR   Off   Def  WAR  \n",
      "0  .359  .411  .633  .445  175   4.9  55.3   5.9  8.4  \n",
      "1  .307  .356  .495  .369  134  13.3  40.2  11.1  7.7  \n",
      "\n",
      "[2 rows x 22 columns]\n",
      "   Year              Name     Team    G   PA  HR    R RBI  SB   BB%  ...   \\\n",
      "0  2013        Mike Trout   Angels  157  716  27  109  97  33  15.4  ...    \n",
      "1  2013  Andrew McCutchen  Pirates  157  674  21   97  84  27  11.6  ...    \n",
      "\n",
      "  BABIP   AVG   OBP   SLG  wOBA wRC+  BsR   Off  Def   WAR  \n",
      "0  .376  .323  .432  .557  .423  176  7.8  70.1  3.3  10.5  \n",
      "1  .353  .317  .404  .508  .393  156  6.2  48.9  9.3   8.4  \n",
      "\n",
      "[2 rows x 22 columns]\n",
      "   Year          Name    Team    G   PA  HR    R  RBI  SB   BB%  ...  BABIP  \\\n",
      "0  2012    Mike Trout  Angels  139  639  30  129   83  49  10.5  ...   .383   \n",
      "1  2012  Buster Posey  Giants  148  610  24   78  103   1  11.3  ...   .368   \n",
      "\n",
      "    AVG   OBP   SLG  wOBA wRC+   BsR   Off   Def   WAR  \n",
      "0  .326  .399  .564  .409  167  14.1  64.2  13.0  10.3  \n",
      "1  .336  .408  .549  .406  164  -4.6  41.8  13.0   7.7  \n",
      "\n",
      "[2 rows x 22 columns]\n",
      "   Year         Name      Team BABIP GB/FB   LD%   GB%   FB% IFFB% HR/FB IFH  \\\n",
      "0  2015  Nelson Cruz  Mariners  .350  1.34  20.4  45.7  34.0  10.3  30.3  14   \n",
      "1  2015  Chris Davis   Orioles  .319  0.73  24.7  31.8  43.5   3.8  29.4   4   \n",
      "\n",
      "  IFH% BUH   BUH% Pull% Cent% Oppo% Soft%  Med% Hard%  \n",
      "0  7.2   0    0.0  38.6  36.5  24.8  15.9  48.5  35.6  \n",
      "1  3.4   2  100.0  56.0  26.5  17.6   9.7  48.9  41.4  \n",
      "   Year               Name       Team BABIP GB/FB   LD%   GB%   FB% IFFB%  \\\n",
      "0  2014         Jose Abreu  White Sox  .356  1.46  23.3  45.5  31.2   8.2   \n",
      "1  2014  Giancarlo Stanton    Marlins  .353  1.06  19.7  41.2  39.1  11.0   \n",
      "\n",
      "  HR/FB IFH IFH% BUH BUH% Pull% Cent% Oppo% Soft%  Med% Hard%  \n",
      "0  26.9  15  7.7   0  0.0  39.9  34.0  26.1  17.0  46.6  36.4  \n",
      "1  25.5  13  8.5   0  0.0  42.6  34.0  23.5  17.8  41.8  40.4  \n",
      "   Year             Name     Team BABIP GB/FB   LD%   GB%   FB% IFFB% HR/FB  \\\n",
      "0  2017      Aaron Judge  Yankees  .426  1.01  24.5  38.0  37.5   2.8  41.7   \n",
      "1  2017  George Springer   Astros  .339  1.36  20.1  46.1  33.9   5.8  31.4   \n",
      "\n",
      "  IFH  IFH% BUH BUH% Pull% Cent% Oppo% Soft%  Med% Hard%  \n",
      "0   3   4.1   0  0.0  41.2  33.3  25.5  12.0  39.1  49.0  \n",
      "1  14  12.0   0  0.0  43.3  31.9  24.8  18.5  42.1  39.4  \n",
      "   Year         Name       Team BABIP GB/FB   LD%   GB%   FB% IFFB% HR/FB IFH  \\\n",
      "0  2016   Ryan Braun    Brewers  .326  2.22  19.3  55.7  25.1   7.7  28.8  21   \n",
      "1  2016  Khris Davis  Athletics  .270  1.06  17.0  42.7  40.2   5.1  26.6  11   \n",
      "\n",
      "  IFH% BUH BUH% Pull% Cent% Oppo% Soft%  Med% Hard%  \n",
      "0  9.1   0  0.0  35.6  37.0  27.4  17.8  47.8  34.4  \n",
      "1  6.5   0  0.0  38.6  36.0  25.4  14.7  46.2  39.1  \n",
      "   Year               Name     Team BABIP GB/FB   LD%   GB%   FB% IFFB% HR/FB  \\\n",
      "0  2011  Giancarlo Stanton  Marlins  .314  1.18  16.3  45.2  38.5  10.2  24.8   \n",
      "1  2011      Mark Reynolds  Orioles  .266  0.82  13.2  39.0  47.8  11.0  22.7   \n",
      "\n",
      "  IFH IFH% BUH BUH% Pull% Cent% Oppo% Soft%  Med% Hard%  \n",
      "0   9  5.6   0  0.0  39.9  40.7  19.4  20.5  39.9  39.6  \n",
      "1  10  7.5   0  0.0  48.0  36.8  15.2  24.0  43.6  32.5  \n",
      "   Year           Name       Team BABIP GB/FB   LD%   GB%   FB% IFFB% HR/FB  \\\n",
      "0  2010     Joey Votto       Reds  .361  1.30  20.0  45.2  34.8   0.0  25.0   \n",
      "1  2010  Jose Bautista  Blue Jays  .233  0.57  14.4  31.1  54.5  14.9  21.7   \n",
      "\n",
      "  IFH IFH% BUH BUH% Pull% Cent% Oppo% Soft%  Med% Hard%  \n",
      "0   5  2.6   0  0.0  35.1  35.5  29.4  11.1  48.9  40.0  \n",
      "1  12  8.5   0  0.0  51.2  30.0  18.8  19.5  40.9  39.6  \n",
      "   Year           Name     Team BABIP GB/FB   LD%   GB%   FB% IFFB% HR/FB IFH  \\\n",
      "0  2013    Chris Davis  Orioles  .336  0.71  21.9  32.4  45.7   3.9  29.6   4   \n",
      "1  2013  Pedro Alvarez  Pirates  .276  1.18  20.5  43.1  36.4   5.8  26.3   6   \n",
      "\n",
      "  IFH% BUH BUH% Pull% Cent% Oppo% Soft%  Med% Hard%  \n",
      "0  3.1   0  0.0  46.2  30.9  23.0  12.2  46.4  41.3  \n",
      "1  3.7   0  0.0  43.1  40.4  16.5  14.4  44.4  41.2  \n",
      "   Year           Name       Team BABIP GB/FB   LD%   GB%   FB% IFFB% HR/FB  \\\n",
      "0  2012      Adam Dunn  White Sox  .246  0.78  22.4  34.0  43.6   8.6  29.3   \n",
      "1  2012  Josh Hamilton    Rangers  .320  0.92  21.3  37.7  41.1   4.2  25.6   \n",
      "\n",
      "  IFH IFH% BUH BUH% Pull% Cent% Oppo% Soft%  Med% Hard%  \n",
      "0   5  4.6   0  0.0  48.0  26.8  25.2  13.4  47.7  38.9  \n",
      "1  10  6.5   0  0.0  37.2  33.7  29.1  14.4  48.7  36.9  \n"
     ]
    }
   ],
   "source": [
    "import numpy as np\n",
    "import pandas as pd\n",
    "\n",
    "def create_stats_frame(clean_data,columns):\n",
    "    stats = pd.DataFrame(columns = columns)\n",
    "    for year in clean_data:\n",
    "        df = pd.DataFrame(np.array(clean_data[year]),columns = columns)\n",
    "        print(df[:2])\n",
    "        stats = stats.append(df,ignore_index=True)\n",
    "    return stats\n",
    "\n",
    "standard_f = create_stats_frame(clean_standard_data,standard_columns)\n",
    "batted_f = create_stats_frame(clean_batted_data,batted_columns)\n"
   ]
  },
  {
   "cell_type": "code",
   "execution_count": 12,
   "metadata": {},
   "outputs": [
    {
     "data": {
      "text/plain": [
       "((1346, 22), (1346, 20))"
      ]
     },
     "execution_count": 12,
     "metadata": {},
     "output_type": "execute_result"
    }
   ],
   "source": [
    "standard_f.shape , batted_f.shape"
   ]
  },
  {
   "cell_type": "code",
   "execution_count": 13,
   "metadata": {
    "collapsed": true
   },
   "outputs": [],
   "source": [
    "dummy = standard_f.drop_duplicates()"
   ]
  },
  {
   "cell_type": "code",
   "execution_count": 14,
   "metadata": {},
   "outputs": [
    {
     "data": {
      "text/plain": [
       "(1176, 22)"
      ]
     },
     "execution_count": 14,
     "metadata": {},
     "output_type": "execute_result"
    }
   ],
   "source": [
    "dummy.shape"
   ]
  },
  {
   "cell_type": "code",
   "execution_count": 15,
   "metadata": {
    "collapsed": true
   },
   "outputs": [],
   "source": [
    "stats = pd.merge(batted_f,standard_f,on=['Year','Name','Team','BABIP'])"
   ]
  },
  {
   "cell_type": "code",
   "execution_count": 16,
   "metadata": {
    "collapsed": true
   },
   "outputs": [],
   "source": [
    "stats.drop_duplicates(inplace=True)"
   ]
  },
  {
   "cell_type": "code",
   "execution_count": 17,
   "metadata": {},
   "outputs": [
    {
     "data": {
      "text/plain": [
       "(1176, 38)"
      ]
     },
     "execution_count": 17,
     "metadata": {},
     "output_type": "execute_result"
    }
   ],
   "source": [
    "stats.shape"
   ]
  },
  {
   "cell_type": "code",
   "execution_count": 22,
   "metadata": {
    "collapsed": true
   },
   "outputs": [],
   "source": [
    "stats = stats.apply(pd.to_numeric,errors = 'ignore')"
   ]
  },
  {
   "cell_type": "code",
   "execution_count": 23,
   "metadata": {},
   "outputs": [
    {
     "data": {
      "text/plain": [
       "Year       int64\n",
       "Name      object\n",
       "Team      object\n",
       "BABIP    float64\n",
       "GB/FB    float64\n",
       "LD%      float64\n",
       "GB%      float64\n",
       "FB%      float64\n",
       "IFFB%    float64\n",
       "HR/FB    float64\n",
       "IFH        int64\n",
       "IFH%     float64\n",
       "BUH        int64\n",
       "BUH%     float64\n",
       "Pull%    float64\n",
       "Cent%    float64\n",
       "Oppo%    float64\n",
       "Soft%    float64\n",
       "Med%     float64\n",
       "Hard%    float64\n",
       "G          int64\n",
       "PA         int64\n",
       "HR         int64\n",
       "R          int64\n",
       "RBI        int64\n",
       "SB         int64\n",
       "BB%      float64\n",
       "K%       float64\n",
       "ISO      float64\n",
       "AVG      float64\n",
       "OBP      float64\n",
       "SLG      float64\n",
       "wOBA     float64\n",
       "wRC+       int64\n",
       "BsR      float64\n",
       "Off      float64\n",
       "Def      float64\n",
       "WAR      float64\n",
       "dtype: object"
      ]
     },
     "execution_count": 23,
     "metadata": {},
     "output_type": "execute_result"
    }
   ],
   "source": [
    "stats.dtypes"
   ]
  },
  {
   "cell_type": "code",
   "execution_count": 24,
   "metadata": {
    "collapsed": true
   },
   "outputs": [],
   "source": [
    "stats.to_pickle('fangraphs.pkl')"
   ]
  }
 ],
 "metadata": {
  "anaconda-cloud": {},
  "kernelspec": {
   "display_name": "Python 2",
   "language": "python",
   "name": "python2"
  },
  "language_info": {
   "codemirror_mode": {
    "name": "ipython",
    "version": 2
   },
   "file_extension": ".py",
   "mimetype": "text/x-python",
   "name": "python",
   "nbconvert_exporter": "python",
   "pygments_lexer": "ipython2",
   "version": "2.7.13"
  }
 },
 "nbformat": 4,
 "nbformat_minor": 1
}
